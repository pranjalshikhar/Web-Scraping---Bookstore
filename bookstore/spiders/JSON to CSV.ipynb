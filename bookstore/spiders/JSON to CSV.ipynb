{
 "cells": [
  {
   "cell_type": "code",
   "execution_count": 10,
   "metadata": {},
   "outputs": [],
   "source": [
    "import pandas as pd"
   ]
  },
  {
   "cell_type": "code",
   "execution_count": 11,
   "metadata": {},
   "outputs": [],
   "source": [
    "js = pd.read_json(r'books.json')"
   ]
  },
  {
   "cell_type": "code",
   "execution_count": 12,
   "metadata": {},
   "outputs": [],
   "source": [
    "df = js.to_csv(r'books.csv', index=None, header=True)"
   ]
  },
  {
   "cell_type": "code",
   "execution_count": 14,
   "metadata": {},
   "outputs": [
    {
     "data": {
      "text/html": [
       "<div>\n",
       "<style scoped>\n",
       "    .dataframe tbody tr th:only-of-type {\n",
       "        vertical-align: middle;\n",
       "    }\n",
       "\n",
       "    .dataframe tbody tr th {\n",
       "        vertical-align: top;\n",
       "    }\n",
       "\n",
       "    .dataframe thead th {\n",
       "        text-align: right;\n",
       "    }\n",
       "</style>\n",
       "<table border=\"1\" class=\"dataframe\">\n",
       "  <thead>\n",
       "    <tr style=\"text-align: right;\">\n",
       "      <th></th>\n",
       "      <th>img</th>\n",
       "      <th>name</th>\n",
       "      <th>price</th>\n",
       "    </tr>\n",
       "  </thead>\n",
       "  <tbody>\n",
       "    <tr>\n",
       "      <th>0</th>\n",
       "      <td>../media/cache/2c/da/2cdad67c44b002e7ead0cc356...</td>\n",
       "      <td>A Light in the Attic</td>\n",
       "      <td>£51.77</td>\n",
       "    </tr>\n",
       "    <tr>\n",
       "      <th>1</th>\n",
       "      <td>../media/cache/26/0c/260c6ae16bce31c8f8c95dadd...</td>\n",
       "      <td>Tipping the Velvet</td>\n",
       "      <td>£53.74</td>\n",
       "    </tr>\n",
       "    <tr>\n",
       "      <th>2</th>\n",
       "      <td>../media/cache/3e/ef/3eef99c9d9adef34639f51066...</td>\n",
       "      <td>Soumission</td>\n",
       "      <td>£50.10</td>\n",
       "    </tr>\n",
       "    <tr>\n",
       "      <th>3</th>\n",
       "      <td>../media/cache/32/51/3251cf3a3412f53f339e42cac...</td>\n",
       "      <td>Sharp Objects</td>\n",
       "      <td>£47.82</td>\n",
       "    </tr>\n",
       "    <tr>\n",
       "      <th>4</th>\n",
       "      <td>../media/cache/be/a5/bea5697f2534a2f86a3ef27b5...</td>\n",
       "      <td>Sapiens: A Brief History of Humankind</td>\n",
       "      <td>£54.23</td>\n",
       "    </tr>\n",
       "    <tr>\n",
       "      <th>5</th>\n",
       "      <td>../media/cache/68/33/68339b4c9bc034267e1da611a...</td>\n",
       "      <td>The Requiem Red</td>\n",
       "      <td>£22.65</td>\n",
       "    </tr>\n",
       "    <tr>\n",
       "      <th>6</th>\n",
       "      <td>../media/cache/92/27/92274a95b7c251fea59a2b8a7...</td>\n",
       "      <td>The Dirty Little Secrets of Getting Your Dream...</td>\n",
       "      <td>£33.34</td>\n",
       "    </tr>\n",
       "    <tr>\n",
       "      <th>7</th>\n",
       "      <td>../media/cache/3d/54/3d54940e57e662c4dd1f3ff00...</td>\n",
       "      <td>The Coming Woman: A Novel Based on the Life of...</td>\n",
       "      <td>£17.93</td>\n",
       "    </tr>\n",
       "    <tr>\n",
       "      <th>8</th>\n",
       "      <td>../media/cache/66/88/66883b91f6804b2323c836933...</td>\n",
       "      <td>The Boys in the Boat: Nine Americans and Their...</td>\n",
       "      <td>£22.60</td>\n",
       "    </tr>\n",
       "    <tr>\n",
       "      <th>9</th>\n",
       "      <td>../media/cache/58/46/5846057e28022268153beff6d...</td>\n",
       "      <td>The Black Maria</td>\n",
       "      <td>£52.15</td>\n",
       "    </tr>\n",
       "  </tbody>\n",
       "</table>\n",
       "</div>"
      ],
      "text/plain": [
       "                                                 img  \\\n",
       "0  ../media/cache/2c/da/2cdad67c44b002e7ead0cc356...   \n",
       "1  ../media/cache/26/0c/260c6ae16bce31c8f8c95dadd...   \n",
       "2  ../media/cache/3e/ef/3eef99c9d9adef34639f51066...   \n",
       "3  ../media/cache/32/51/3251cf3a3412f53f339e42cac...   \n",
       "4  ../media/cache/be/a5/bea5697f2534a2f86a3ef27b5...   \n",
       "5  ../media/cache/68/33/68339b4c9bc034267e1da611a...   \n",
       "6  ../media/cache/92/27/92274a95b7c251fea59a2b8a7...   \n",
       "7  ../media/cache/3d/54/3d54940e57e662c4dd1f3ff00...   \n",
       "8  ../media/cache/66/88/66883b91f6804b2323c836933...   \n",
       "9  ../media/cache/58/46/5846057e28022268153beff6d...   \n",
       "\n",
       "                                                name   price  \n",
       "0                               A Light in the Attic  £51.77  \n",
       "1                                 Tipping the Velvet  £53.74  \n",
       "2                                         Soumission  £50.10  \n",
       "3                                      Sharp Objects  £47.82  \n",
       "4              Sapiens: A Brief History of Humankind  £54.23  \n",
       "5                                    The Requiem Red  £22.65  \n",
       "6  The Dirty Little Secrets of Getting Your Dream...  £33.34  \n",
       "7  The Coming Woman: A Novel Based on the Life of...  £17.93  \n",
       "8  The Boys in the Boat: Nine Americans and Their...  £22.60  \n",
       "9                                    The Black Maria  £52.15  "
      ]
     },
     "execution_count": 14,
     "metadata": {},
     "output_type": "execute_result"
    }
   ],
   "source": [
    "js.head(n=10)"
   ]
  },
  {
   "cell_type": "code",
   "execution_count": null,
   "metadata": {},
   "outputs": [],
   "source": []
  }
 ],
 "metadata": {
  "kernelspec": {
   "display_name": "Python 3",
   "language": "python",
   "name": "python3"
  },
  "language_info": {
   "codemirror_mode": {
    "name": "ipython",
    "version": 3
   },
   "file_extension": ".py",
   "mimetype": "text/x-python",
   "name": "python",
   "nbconvert_exporter": "python",
   "pygments_lexer": "ipython3",
   "version": "3.7.6"
  }
 },
 "nbformat": 4,
 "nbformat_minor": 4
}
